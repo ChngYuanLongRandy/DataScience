{
 "cells": [
  {
   "cell_type": "markdown",
   "metadata": {},
   "source": [
    "Improvement: read from API instead of csv"
   ]
  },
  {
   "cell_type": "code",
   "execution_count": 170,
   "metadata": {},
   "outputs": [],
   "source": [
    "import numpy as np\n",
    "import pandas as pd\n",
    "import matplotlib.pyplot as plt\n",
    "import seaborn as sns\n",
    "\n",
    "url = \"https://raw.githubusercontent.com/ChngYuanLongRandy/DataScience/main/median-rent-by-town-and-flat-type.csv\"\n",
    "\n",
    "#url = \"https://data.gov.sg/api/action/datastore_search?resource_id=6b1ec2ff-7c38-4ce9-9bbb-af865b4d78cb\"\n",
    "\n",
    "#import json\n",
    "#import requests\n",
    "#response = requests.get(url)\n",
    "#data = response.text\n",
    "\n",
    "\n",
    "#a_json = json.loads(data)\n",
    "#df = pd.DataFrame.from_dict(a_json, orient='index')\n",
    "#df.reset_index(level=0, inplace=True)\n",
    "\n",
    "#df = pd.DataFrame.from_dict(a_json)\n",
    "\n",
    "#import urllib\n",
    "#with urllib.request.urlopen(url) as response:\n",
    "#print (response.read())\n",
    "\n",
    "\n",
    "#url = \"https://raw.githubusercontent.com/hashketh/hello-world/e6eb7ca3e5e1e1d2f1d7d9571966c396928bac76/candyhierarchy2017%20(1).csv\"\n",
    "#url = \"https://github.com/ChngYuanLongRandy/DataScience/blob/main/Stats%20From%20Singstat.xlsx?raw=true\"\n",
    "\n",
    "# Reading the downloaded content and turning it into a pandas dataframe\n",
    "\n",
    "#print (fileobj.read())\n",
    "# , encoding=\"ISO-8859-1\"\n",
    "\n",
    "df = pd.read_csv(url, na_values='na', parse_dates=['quarter'])\n"
   ]
  },
  {
   "cell_type": "code",
   "execution_count": 171,
   "metadata": {},
   "outputs": [
    {
     "data": {
      "text/plain": [
       "pandas.core.frame.DataFrame"
      ]
     },
     "execution_count": 171,
     "metadata": {},
     "output_type": "execute_result"
    }
   ],
   "source": [
    "type(df)"
   ]
  },
  {
   "cell_type": "code",
   "execution_count": 172,
   "metadata": {},
   "outputs": [
    {
     "name": "stdout",
     "output_type": "stream",
     "text": [
      "         quarter        town flat_type median_rent\n",
      "0     2005-04-01  ANG MO KIO      1-RM         NaN\n",
      "1     2005-04-01  ANG MO KIO      2-RM         NaN\n",
      "2     2005-04-01  ANG MO KIO      3-RM         800\n",
      "3     2005-04-01  ANG MO KIO      4-RM         950\n",
      "4     2005-04-01  ANG MO KIO      5-RM           -\n",
      "...          ...         ...       ...         ...\n",
      "10024 2021-01-01      YISHUN      2-RM           -\n",
      "10025 2021-01-01      YISHUN      3-RM        1700\n",
      "10026 2021-01-01      YISHUN      4-RM        1900\n",
      "10027 2021-01-01      YISHUN      5-RM        2100\n",
      "10028 2021-01-01      YISHUN      EXEC        2250\n",
      "\n",
      "[10029 rows x 4 columns]\n"
     ]
    }
   ],
   "source": [
    "print(df)"
   ]
  },
  {
   "cell_type": "code",
   "execution_count": 180,
   "metadata": {},
   "outputs": [
    {
     "name": "stdout",
     "output_type": "stream",
     "text": [
      "<class 'pandas.core.frame.DataFrame'>\n",
      "RangeIndex: 10029 entries, 0 to 10028\n",
      "Data columns (total 4 columns):\n",
      " #   Column       Non-Null Count  Dtype         \n",
      "---  ------       --------------  -----         \n",
      " 0   quarter      10029 non-null  datetime64[ns]\n",
      " 1   town         10029 non-null  object        \n",
      " 2   flat_type    10029 non-null  object        \n",
      " 3   median_rent  7177 non-null   object        \n",
      "dtypes: datetime64[ns](1), object(3)\n",
      "memory usage: 313.5+ KB\n"
     ]
    }
   ],
   "source": [
    "df.info()"
   ]
  },
  {
   "cell_type": "code",
   "execution_count": 181,
   "metadata": {},
   "outputs": [],
   "source": [
    "df['median_rent'] = pd.to_numeric(df['median_rent'], errors = 'coerce')"
   ]
  },
  {
   "cell_type": "code",
   "execution_count": 182,
   "metadata": {},
   "outputs": [
    {
     "data": {
      "image/png": "[encoded data removed]",
      "text/plain": [
       "<Figure size 432x288 with 1 Axes>"
      ]
     },
     "metadata": {
      "needs_background": "light"
     },
     "output_type": "display_data"
    }
   ],
   "source": [
    "plt.plot(df['quarter'],df['median_rent'])\n",
    "plt.xlabel = \"Quarter\"\n",
    "plt.ylabel = \"Median Rent\"\n",
    "plt.show()"
   ]
  },
  {
   "cell_type": "code",
   "execution_count": 75,
   "metadata": {},
   "outputs": [],
   "source": []
  },
  {
   "cell_type": "code",
   "execution_count": null,
   "metadata": {},
   "outputs": [],
   "source": []
  }
 ],
 "metadata": {
  "kernelspec": {
   "display_name": "Python 3",
   "language": "python",
   "name": "python3"
  },
  "language_info": {
   "codemirror_mode": {
    "name": "ipython",
    "version": 3
   },
   "file_extension": ".py",
   "mimetype": "text/x-python",
   "name": "python",
   "nbconvert_exporter": "python",
   "pygments_lexer": "ipython3",
   "version": "3.8.5"
  }
 },
 "nbformat": 4,
 "nbformat_minor": 4
}
